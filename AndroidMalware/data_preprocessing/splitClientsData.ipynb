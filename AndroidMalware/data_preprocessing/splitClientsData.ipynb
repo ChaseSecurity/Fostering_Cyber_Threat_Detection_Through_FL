{
 "cells": [
  {
   "cell_type": "code",
   "execution_count": 1,
   "metadata": {},
   "outputs": [],
   "source": [
    "import os\n",
    "import sys\n",
    "import logging\n",
    "import shutil\n",
    "import random,os\n",
    "import numpy as np\n",
    "format_str = '%(asctime)s %(levelname)s %(message)s'\n",
    "logging.basicConfig(level=logging.INFO, format=format_str)\n",
    "logging.info('started')\n"
   ]
  },
  {
   "cell_type": "markdown",
   "metadata": {},
   "source": [
    "# Description for generating data folders\n",
    "\n",
    "- In this notebook, we provide the source code of splitting datasets for the non-IID distributions in the paper.\n",
    "\n",
    "- In this scenerio, we copy the splitted data into new data folders which contain all the client data subfolders and a server test data subfolder.\n",
    "\n",
    "- For the new data folder, it will be named as `[client_num][distribution][parameter_num]`, e.g. `3quantity_noniid10`."
   ]
  },
  {
   "cell_type": "markdown",
   "metadata": {},
   "source": [
    "### Define all the file paths."
   ]
  },
  {
   "cell_type": "code",
   "execution_count": 2,
   "metadata": {},
   "outputs": [],
   "source": [
    "root = '../data/'\n",
    "benign_path = root+'benign/'\n",
    "malware_path = root+'malware/'\n",
    "test_path = root+'test_dataset/'  "
   ]
  },
  {
   "cell_type": "markdown",
   "metadata": {},
   "source": [
    "### Define the functions."
   ]
  },
  {
   "cell_type": "code",
   "execution_count": 3,
   "metadata": {},
   "outputs": [],
   "source": [
    "# Send the test dataset to the target data folder for server side testing.\n",
    "def get_test(file):\n",
    "    tarDir = file+'/test/'\n",
    "    if not os.path.exists(tarDir):\n",
    "        os.mkdir(tarDir)\n",
    "\n",
    "    pathDir = os.listdir(root+'test_dataset/')\n",
    "    for name in pathDir:\n",
    "        shutil.copy(root+'test_dataset/'+name, tarDir+name)\n",
    "    return"
   ]
  },
  {
   "cell_type": "code",
   "execution_count": 4,
   "metadata": {},
   "outputs": [],
   "source": [
    "# Copy files into each client dataset folder.\n",
    "# Sampling without replacement.\n",
    "def splitIntoClient(folder, curr_files, curr_sample, curr_path, client_num):\n",
    "    for client in range(client_num):\n",
    "        ### Get the sample num for each client.\n",
    "        tarDir = folder+'/trainer'+str(client+1)+'/'\n",
    "        if not os.path.exists(tarDir):\n",
    "            os.mkdir(tarDir)\n",
    "        sample_num = curr_sample[client]\n",
    "        # The last client get the rest samples.\n",
    "        if client == client_num-1:\n",
    "            sample_num = len(curr_files)\n",
    "        ### Randomly choose samples.\n",
    "        random.seed = client\n",
    "        resultFileName = random.sample(curr_files, sample_num)\n",
    "        logging.info(\"Sample num for client %d: %d\" % (client+1, sample_num))\n",
    "        ### Copy the chosen samples to tarDir\n",
    "        for name in resultFileName:\n",
    "            shutil.copy(curr_path+name, tarDir+name)\n",
    "            # Delete the selected file from list\n",
    "            index = curr_files.index(name)\n",
    "            curr_files.pop(index)\n",
    "    return"
   ]
  },
  {
   "cell_type": "code",
   "execution_count": 5,
   "metadata": {},
   "outputs": [],
   "source": [
    "# Copy files into target folder.\n",
    "def copyFile(tarDir, fileDir, filenumber, type):\n",
    "    pathDir = os.listdir(fileDir)\n",
    "    if not os.path.exists(tarDir+'_'+type):\n",
    "        os.mkdir(tarDir+'_'+type) \n",
    "    else:\n",
    "        logging.info(\"Folder not empty!\")\n",
    "        sys.exit()   \n",
    "    ### Randomly choose 'filenumber' samples.\n",
    "    result = random.sample(pathDir, filenumber)\n",
    "    for name in result:\n",
    "        shutil.copy(fileDir+'/'+name, tarDir+'/'+name)\n",
    "        shutil.copy(fileDir+'/'+name, tarDir+'_'+type+'/'+name)\n",
    "    return"
   ]
  },
  {
   "cell_type": "markdown",
   "metadata": {},
   "source": [
    "## Quantity based non-IID distribution for each client.\n",
    "\n",
    "1 dirichlet distribution decides client size."
   ]
  },
  {
   "cell_type": "code",
   "execution_count": 6,
   "metadata": {},
   "outputs": [],
   "source": [
    "def quantity_based_noniid(client_num, p, token_path = None):\n",
    "    ### The new folder name for all the client datasets.\n",
    "    if token_path is not None:\n",
    "        folder = root+str(client_num)+token_path\n",
    "    else:\n",
    "        folder = root+str(client_num)+'quantity_noniid'+str(p)\n",
    "    if not os.path.exists(folder):\n",
    "        os.mkdir(folder)\n",
    "    else:\n",
    "        logging.info(\"Folder %s not empty!\", folder)\n",
    "        sys.exit()\n",
    "    ### Generate one dirichlet distribution and corresponding sample numbers for benign and malware.\n",
    "    alpha=[p]*client_num\n",
    "    all_distribution = np.random.dirichlet(alpha, 1)[0]\n",
    "    benign_files = os.listdir(benign_path)\n",
    "    malware_files = os.listdir(malware_path)\n",
    "    benign_sample = []\n",
    "    malware_sample = []\n",
    "    for client in range(client_num):\n",
    "        benign_sample.append(int(all_distribution[client] * len(benign_files)+0.5))\n",
    "        malware_sample.append(int(all_distribution[client] * len(malware_files)+0.5))\n",
    "    ### Split benign.\n",
    "    logging.info(\"Start splitting benign samples.\")\n",
    "    splitIntoClient(folder, benign_files, benign_sample, benign_path, client_num)\n",
    "    ### Split malware.\n",
    "    logging.info(\"Start splitting malware samples.\")\n",
    "    splitIntoClient(folder, malware_files, malware_sample, malware_path, client_num)\n",
    "    ### Copy test dataset.\n",
    "    get_test(folder)\n",
    "    logging.info(\"Splitting finished.\")\n",
    "\n",
    "\n",
    "client_num = 3\n",
    "p = 10\n",
    "quantity_based_noniid(client_num, p)"
   ]
  },
  {
   "cell_type": "markdown",
   "metadata": {},
   "source": [
    "## Label based non-IID distribution for each client.\n",
    "\n",
    "2 dirichlet distribution decides client size."
   ]
  },
  {
   "cell_type": "code",
   "execution_count": null,
   "metadata": {},
   "outputs": [],
   "source": [
    "def label_based_noniid(client_num, p_benign, p_malware):\n",
    "    ### The new folder name for all the client datasets.\n",
    "    folder = root+str(client_num)+'label_noniid'+str(p_benign)+'_'+str(p_malware)\n",
    "    if not os.path.exists(folder):\n",
    "        os.mkdir(folder)\n",
    "    else:\n",
    "        logging.info(\"Folder %s not empty!\", folder)\n",
    "        sys.exit()\n",
    "    ### Generate the two dirichlet distribution and corresponding sample numbers for benign and malware.\n",
    "    alpha_benign=[p_benign]*client_num\n",
    "    alpha_malware=[p_malware]*client_num\n",
    "    benign_distribution = np.random.dirichlet(alpha_benign, 1)[0]\n",
    "    malware_distribution = np.random.dirichlet(alpha_malware, 1)[0]\n",
    "    benign_files = os.listdir(benign_path) \n",
    "    malware_files = os.listdir(malware_path) \n",
    "    benign_sample = []\n",
    "    malware_sample = []\n",
    "    for client in range(client_num):\n",
    "        benign_sample.append(int(benign_distribution[client] * len(benign_files)+0.5))\n",
    "        malware_sample.append(int(malware_distribution[client] * len(malware_files)+0.5))\n",
    "    ### Split benign.\n",
    "    logging.info(\"Start splitting benign samples.\")\n",
    "    splitIntoClient(folder, benign_files, benign_sample, benign_path, client_num)\n",
    "    ### Split malware.\n",
    "    logging.info(\"Start splitting malware samples.\")\n",
    "    splitIntoClient(folder, malware_files, malware_sample, malware_path, client_num)\n",
    "    ### Copy test dataset.\n",
    "    get_test(folder)\n",
    "    logging.info(\"Splitting finished.\")\n",
    "\n",
    "\n",
    "client_num = 3\n",
    "p_benign=10\n",
    "p_malware=10\n",
    "label_based_noniid(client_num, p_benign, p_malware)"
   ]
  },
  {
   "cell_type": "markdown",
   "metadata": {},
   "source": [
    "## Consistent label imbalance (CLI)"
   ]
  },
  {
   "cell_type": "markdown",
   "metadata": {},
   "source": [
    "Firstly, enforce CLI on the central dataset."
   ]
  },
  {
   "cell_type": "code",
   "execution_count": null,
   "metadata": {},
   "outputs": [],
   "source": [
    "# Convert central dataset into consistent label unbalanced cetral dataset.\n",
    "def convertCentral():\n",
    "    file = root+'CLI'+str(b)+'_'+str(m)\n",
    "    if not os.path.exists(file):\n",
    "        os.mkdir(file)\n",
    "    else:\n",
    "        logging.info(\"Folder not empty!\")\n",
    "        sys.exit()\n",
    "\n",
    "    benign_files = os.listdir(benign_path) \n",
    "    malware_files = os.listdir(malware_path) \n",
    "    # The ratio of benign:malware = b:m\n",
    "    bfilenumber = int(len(benign_files)/m)\n",
    "    mfilenumber = int(len(malware_files)/b)\n",
    "\n",
    "    copyFile(file, malware_path, mfilenumber, 'malware')\n",
    "    copyFile(file, benign_path, bfilenumber, 'benign')\n",
    "    logging.info(len(os.listdir(file)))\n",
    "\n",
    "\n",
    "m = 1\n",
    "b = 2\n",
    "client_num = 3\n",
    "convertCentral()"
   ]
  },
  {
   "cell_type": "markdown",
   "metadata": {},
   "source": [
    "Secondly, split the unbalanced central dataset into client datasets. \n",
    "\n",
    "In default setting, the client sizes still follow the quantity based non-IID distribution."
   ]
  },
  {
   "cell_type": "code",
   "execution_count": null,
   "metadata": {},
   "outputs": [],
   "source": [
    "### Store the default path in tmp variables.\n",
    "tmp_benign_path = benign_path\n",
    "tmp_malware_path = malware_path\n",
    "### \n",
    "m = 1\n",
    "b = 2\n",
    "p = 10\n",
    "client_num = 3\n",
    "token_path = 'CLI'+str(b)+'_'+str(m)\n",
    "# Redefine the path as the unbalanced central datasets\n",
    "benign_path = root+token_path+'_benign/'\n",
    "malware_path = root+token_path+'_malware/'\n",
    "quantity_based_noniid(client_num, p, token_path=token_path)\n",
    "\n",
    "### Restore the default path.\n",
    "benign_path = tmp_benign_path\n",
    "malware_path = tmp_malware_path"
   ]
  }
 ],
 "metadata": {
  "kernelspec": {
   "display_name": "Python 3",
   "language": "python",
   "name": "python3"
  },
  "language_info": {
   "codemirror_mode": {
    "name": "ipython",
    "version": 3
   },
   "file_extension": ".py",
   "mimetype": "text/x-python",
   "name": "python",
   "nbconvert_exporter": "python",
   "pygments_lexer": "ipython3",
   "version": "3.8.10"
  }
 },
 "nbformat": 4,
 "nbformat_minor": 2
}
